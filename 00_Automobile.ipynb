{
  "cells": [
    {
      "cell_type": "markdown",
      "source": [
        "## Connect to the workspace"
      ],
      "metadata": {
        "nteract": {
          "transient": {
            "deleting": false
          }
        }
      }
    },
    {
      "cell_type": "code",
      "source": [
        "from azureml.core import Workspace, Experiment"
      ],
      "outputs": [],
      "execution_count": 1,
      "metadata": {
        "collapsed": true,
        "jupyter": {
          "source_hidden": false,
          "outputs_hidden": false
        },
        "nteract": {
          "transient": {
            "deleting": false
          }
        },
        "gather": {
          "logged": 1617071497698
        }
      }
    },
    {
      "cell_type": "code",
      "source": [
        "ws = Workspace.from_config()\r\n",
        "print('Workspace name: ' + ws.name, \r\n",
        "      'Azure region: ' + ws.location, \r\n",
        "      'Subscription id: ' + ws.subscription_id, \r\n",
        "      'Resource group: ' + ws.resource_group, sep='\\n')"
      ],
      "outputs": [
        {
          "output_type": "stream",
          "name": "stdout",
          "text": [
            "Workspace name: ubcdsedays\n",
            "Azure region: eastus\n",
            "Subscription id: f2e1f0df-51fd-491a-aa0f-49fcd6b5ff19\n",
            "Resource group: ub-cdse\n"
          ]
        }
      ],
      "execution_count": 2,
      "metadata": {
        "collapsed": true,
        "jupyter": {
          "source_hidden": false,
          "outputs_hidden": false
        },
        "nteract": {
          "transient": {
            "deleting": false
          }
        },
        "gather": {
          "logged": 1617071498177
        }
      }
    },
    {
      "cell_type": "markdown",
      "source": [
        "## Start tracking as an experiment\r\n",
        "Experiment allows us to capture code, metrics and logs from a notebook run. In this example, we track the run as 'noteboo-run'. Subsequent runs will also be associated with the same experiment allowing us to manage different iterations of the experiment"
      ],
      "metadata": {
        "nteract": {
          "transient": {
            "deleting": false
          }
        }
      }
    },
    {
      "cell_type": "code",
      "source": [
        "experiment = Experiment(workspace=ws, name='notebook-run')\r\n",
        "run = experiment.start_logging()"
      ],
      "outputs": [],
      "execution_count": 3,
      "metadata": {
        "collapsed": true,
        "jupyter": {
          "source_hidden": false,
          "outputs_hidden": false
        },
        "nteract": {
          "transient": {
            "deleting": false
          }
        },
        "gather": {
          "logged": 1617071500274
        }
      }
    },
    {
      "cell_type": "markdown",
      "source": [
        "## Download data\r\n",
        "We use the same data as the AutoML and Designer experiments. To keep the notebook simple, we select only the numeric features in this notebook"
      ],
      "metadata": {
        "nteract": {
          "transient": {
            "deleting": false
          }
        }
      }
    },
    {
      "cell_type": "code",
      "source": [
        "import pandas as pd\r\n",
        "import numpy as np\r\n",
        "import sklearn\r\n",
        "\r\n",
        "#Automobile price dataset\r\n",
        "URL='https://raw.githubusercontent.com/MicrosoftLearning/Principles-of-Machine-Learning-Python/master/Module7/Automobile%20price%20data%20_Raw_.csv'\r\n",
        "FEATURES = [\r\n",
        "        'length',\r\n",
        "        'width',\r\n",
        "        'height',\r\n",
        "        'curb-weight',\r\n",
        "        'compression-ratio',\r\n",
        "        'horsepower',\r\n",
        "        'peak-rpm',\r\n",
        "        'city-mpg',\r\n",
        "        'highway-mpg']\r\n",
        "LABEL = 'price'\r\n",
        "\r\n",
        "df = pd.read_csv(\r\n",
        "    URL, \r\n",
        "    header=0, \r\n",
        "    usecols= FEATURES  + [LABEL],\r\n",
        "    na_values='?',\r\n",
        "    dtype=np.float32)\r\n",
        "# convert to numeric\r\n",
        "df = df.dropna()\r\n",
        "df.info()"
      ],
      "outputs": [
        {
          "output_type": "stream",
          "name": "stdout",
          "text": [
            "<class 'pandas.core.frame.DataFrame'>\n",
            "Int64Index: 199 entries, 0 to 204\n",
            "Data columns (total 10 columns):\n",
            "length               199 non-null float32\n",
            "width                199 non-null float32\n",
            "height               199 non-null float32\n",
            "curb-weight          199 non-null float32\n",
            "compression-ratio    199 non-null float32\n",
            "horsepower           199 non-null float32\n",
            "peak-rpm             199 non-null float32\n",
            "city-mpg             199 non-null float32\n",
            "highway-mpg          199 non-null float32\n",
            "price                199 non-null float32\n",
            "dtypes: float32(10)\n",
            "memory usage: 9.3 KB\n"
          ]
        }
      ],
      "execution_count": 4,
      "metadata": {
        "gather": {
          "logged": 1617071500972
        }
      }
    },
    {
      "cell_type": "markdown",
      "source": [
        "## Training\r\n",
        "We use a Random Forest Regressor"
      ],
      "metadata": {
        "nteract": {
          "transient": {
            "deleting": false
          }
        }
      }
    },
    {
      "cell_type": "code",
      "source": [
        "import numpy\r\n",
        "import sklearn\r\n",
        "from sklearn.model_selection import train_test_split, cross_val_score\r\n",
        "from sklearn.metrics import r2_score\r\n",
        "from matplotlib import pyplot as plt"
      ],
      "outputs": [],
      "execution_count": 5,
      "metadata": {
        "collapsed": true,
        "jupyter": {
          "source_hidden": false,
          "outputs_hidden": false
        },
        "nteract": {
          "transient": {
            "deleting": false
          }
        },
        "gather": {
          "logged": 1617071501232
        }
      }
    },
    {
      "cell_type": "code",
      "source": [
        "X_train, X_test, y_train, y_test = train_test_split(df[FEATURES],df[LABEL], test_size=0.3)"
      ],
      "outputs": [],
      "execution_count": 6,
      "metadata": {
        "collapsed": true,
        "jupyter": {
          "source_hidden": false,
          "outputs_hidden": false
        },
        "nteract": {
          "transient": {
            "deleting": false
          }
        },
        "gather": {
          "logged": 1617071501421
        }
      }
    },
    {
      "cell_type": "code",
      "source": [
        "from sklearn.ensemble import RandomForestRegressor\r\n",
        "clf = RandomForestRegressor(n_estimators=10)\r\n",
        "clf = clf.fit(X_train, y_train)"
      ],
      "outputs": [],
      "execution_count": 7,
      "metadata": {
        "collapsed": true,
        "jupyter": {
          "source_hidden": false,
          "outputs_hidden": false
        },
        "nteract": {
          "transient": {
            "deleting": false
          }
        },
        "gather": {
          "logged": 1617071501615
        }
      }
    },
    {
      "cell_type": "code",
      "source": [
        "yhat = clf.predict(X_test)\r\n",
        "plt.plot(y_test, yhat, '.')\r\n",
        "r2 = r2_score(y_test, yhat)\r\n",
        "print(\"R2:\", r2)"
      ],
      "outputs": [
        {
          "output_type": "stream",
          "name": "stdout",
          "text": [
            "R2: 0.8905480181479016\n"
          ]
        },
        {
          "output_type": "display_data",
          "data": {
            "text/plain": "<Figure size 432x288 with 1 Axes>",
            "image/png": "[encoded data removed]"
          },
          "metadata": {
            "needs_background": "light"
          }
        }
      ],
      "execution_count": 8,
      "metadata": {
        "collapsed": true,
        "jupyter": {
          "source_hidden": false,
          "outputs_hidden": false
        },
        "nteract": {
          "transient": {
            "deleting": false
          }
        },
        "gather": {
          "logged": 1617071501956
        }
      }
    },
    {
      "cell_type": "markdown",
      "source": [
        "## Logging\r\n",
        "We log the metrics as part of the experiment run. This can be inspected at a later date\r\n",
        "\r\n"
      ],
      "metadata": {
        "nteract": {
          "transient": {
            "deleting": false
          }
        }
      }
    },
    {
      "cell_type": "code",
      "source": [
        "run.log(name=\"r2\", value=r2)\r\n",
        "run.complete()"
      ],
      "outputs": [],
      "execution_count": 9,
      "metadata": {
        "collapsed": true,
        "jupyter": {
          "source_hidden": false,
          "outputs_hidden": false
        },
        "nteract": {
          "transient": {
            "deleting": false
          }
        },
        "gather": {
          "logged": 1617071502213
        }
      }
    },
    {
      "cell_type": "markdown",
      "source": [
        "## Saving the model"
      ],
      "metadata": {
        "nteract": {
          "transient": {
            "deleting": false
          }
        }
      }
    },
    {
      "cell_type": "code",
      "source": [
        "import joblib\r\n",
        "joblib.dump(clf, 'model.pkl')"
      ],
      "outputs": [
        {
          "output_type": "execute_result",
          "execution_count": 10,
          "data": {
            "text/plain": "['model.pkl']"
          },
          "metadata": {}
        }
      ],
      "execution_count": 10,
      "metadata": {
        "collapsed": true,
        "jupyter": {
          "source_hidden": false,
          "outputs_hidden": false
        },
        "nteract": {
          "transient": {
            "deleting": false
          }
        },
        "gather": {
          "logged": 1617071502404
        }
      }
    },
    {
      "cell_type": "markdown",
      "source": [
        "## Register model"
      ],
      "metadata": {
        "nteract": {
          "transient": {
            "deleting": false
          }
        }
      }
    },
    {
      "cell_type": "code",
      "source": [
        "from azureml.core import Model"
      ],
      "outputs": [],
      "execution_count": 11,
      "metadata": {
        "collapsed": true,
        "jupyter": {
          "source_hidden": false,
          "outputs_hidden": false
        },
        "nteract": {
          "transient": {
            "deleting": false
          }
        },
        "gather": {
          "logged": 1617071502576
        }
      }
    },
    {
      "cell_type": "code",
      "source": [
        "from azureml.core import Dataset\r\n",
        "\r\n",
        "np.savetxt('features.csv', X_train, delimiter=',')\r\n",
        "np.savetxt('labels.csv', y_train, delimiter=',')\r\n",
        "datastore = ws.get_default_datastore()\r\n",
        "datastore.upload_files(files=['./features.csv', './labels.csv'],\r\n",
        "                       target_path='sklearn_regression/',\r\n",
        "                       overwrite=True)\r\n",
        "input_dataset = Dataset.Tabular.from_delimited_files(path=[(datastore, 'sklearn_regression/features.csv')])\r\n",
        "output_dataset = Dataset.Tabular.from_delimited_files(path=[(datastore, 'sklearn_regression/labels.csv')])"
      ],
      "outputs": [
        {
          "output_type": "stream",
          "name": "stdout",
          "text": [
            "Uploading an estimated of 2 files\n",
            "Uploading ./features.csv\n",
            "Uploaded ./features.csv, 1 files out of an estimated total of 2\n",
            "Uploading ./labels.csv\n",
            "Uploaded ./labels.csv, 2 files out of an estimated total of 2\n",
            "Uploaded 2 files\n"
          ]
        }
      ],
      "execution_count": 12,
      "metadata": {
        "collapsed": true,
        "jupyter": {
          "source_hidden": false,
          "outputs_hidden": false
        },
        "nteract": {
          "transient": {
            "deleting": false
          }
        },
        "gather": {
          "logged": 1617071508965
        }
      }
    },
    {
      "cell_type": "code",
      "source": [
        "model = Model.register(\r\n",
        "    workspace=ws, \r\n",
        "    model_name=\"model\",\r\n",
        "    model_path='model.pkl', \r\n",
        "    model_framework=Model.Framework.SCIKITLEARN,\r\n",
        "    sample_input_dataset=input_dataset,\r\n",
        "    sample_output_dataset=output_dataset)"
      ],
      "outputs": [
        {
          "output_type": "stream",
          "name": "stdout",
          "text": [
            "Registering model model\n"
          ]
        }
      ],
      "execution_count": 13,
      "metadata": {
        "collapsed": true,
        "jupyter": {
          "source_hidden": false,
          "outputs_hidden": false
        },
        "nteract": {
          "transient": {
            "deleting": false
          }
        },
        "gather": {
          "logged": 1617071512327
        }
      }
    },
    {
      "cell_type": "markdown",
      "source": [
        "## Deploying the model"
      ],
      "metadata": {
        "nteract": {
          "transient": {
            "deleting": false
          }
        }
      }
    },
    {
      "cell_type": "code",
      "source": [
        "service_name = 'sklearn-service'\r\n",
        "service = Model.deploy(ws, service_name, [model], overwrite=True)\r\n",
        "service.wait_for_deployment(show_output=True)"
      ],
      "outputs": [
        {
          "output_type": "stream",
          "name": "stdout",
          "text": [
            "Tips: You can try get_logs(): https://aka.ms/debugimage#dockerlog or local deployment: https://aka.ms/debugimage#debug-locally to debug if deployment takes longer than 10 minutes.\n",
            "Running\n",
            "2021-03-30 02:31:53+00:00 Registering the environment.\n",
            "2021-03-30 02:31:56+00:00 Uploading autogenerated assets for no-code-deployment..\n",
            "2021-03-30 02:32:00+00:00 Use the existing image.\n",
            "2021-03-30 02:32:00+00:00 Generating deployment configuration.\n",
            "2021-03-30 02:32:01+00:00 Submitting deployment to compute.\n",
            "2021-03-30 02:32:03+00:00 Checking the status of deployment sklearn-service."
          ]
        }
      ],
      "execution_count": 14,
      "metadata": {
        "collapsed": true,
        "jupyter": {
          "source_hidden": false,
          "outputs_hidden": false
        },
        "nteract": {
          "transient": {
            "deleting": false
          }
        }
      }
    },
    {
      "cell_type": "code",
      "source": [],
      "outputs": [],
      "execution_count": null,
      "metadata": {
        "collapsed": true,
        "jupyter": {
          "source_hidden": false,
          "outputs_hidden": false
        },
        "nteract": {
          "transient": {
            "deleting": false
          }
        }
      }
    }
  ],
  "metadata": {
    "kernelspec": {
      "name": "python3-azureml",
      "language": "python",
      "display_name": "Python 3.6 - AzureML"
    },
    "language_info": {
      "name": "python",
      "version": "3.6.9",
      "mimetype": "text/x-python",
      "codemirror_mode": {
        "name": "ipython",
        "version": 3
      },
      "pygments_lexer": "ipython3",
      "nbconvert_exporter": "python",
      "file_extension": ".py"
    },
    "kernel_info": {
      "name": "python3-azureml"
    },
    "nteract": {
      "version": "nteract-front-end@1.0.0"
    },
    "microsoft": {
      "host": {
        "AzureML": {
          "notebookHasBeenCompleted": true
        }
      }
    }
  },
  "nbformat": 4,
  "nbformat_minor": 2
}